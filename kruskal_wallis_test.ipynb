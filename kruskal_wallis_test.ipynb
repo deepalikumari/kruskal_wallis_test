{
  "nbformat": 4,
  "nbformat_minor": 0,
  "metadata": {
    "colab": {
      "provenance": []
    },
    "kernelspec": {
      "name": "python3",
      "display_name": "Python 3"
    },
    "language_info": {
      "name": "python"
    }
  },
  "cells": [
    {
      "cell_type": "code",
      "execution_count": null,
      "metadata": {
        "colab": {
          "base_uri": "https://localhost:8080/"
        },
        "id": "0MsVz000q-zl",
        "outputId": "d1b811d7-a7c5-43ba-d619-4224feb5ca00"
      },
      "outputs": [
        {
          "output_type": "stream",
          "name": "stdout",
          "text": [
            "Test Statistic (H): 4.412364243943188\n",
            "Degrees of Freedom: 2\n",
            "Critical Value: 5.99\n",
            "p-value: False\n",
            "Null hypothesis is accepted\n"
          ]
        }
      ],
      "source": [
        "import numpy as np\n",
        "from scipy.stats import rankdata\n",
        "\n",
        "# Example data for three independent groups\n",
        "group1 = [30,27,34,15,18]\n",
        "group2 = [34,35,19,15,27,78,45]\n",
        "group3 = [67,54,27,27,79,85]\n",
        "\n",
        "# Combine all groups into a single dataset\n",
        "data = np.concatenate([group1, group2, group3])\n",
        "\n",
        "# Rank transformation\n",
        "ranks = rankdata(data)\n",
        "\n",
        "# Split ranks back into the original groups\n",
        "group_ranks = np.split(ranks, [len(group1), len(group1)+len(group2)])\n",
        "\n",
        "# Calculate the sum of ranks for each group\n",
        "group_sums = [np.sum(gr) for gr in group_ranks]\n",
        "\n",
        "# Calculate the number of groups and observations\n",
        "num_groups = len(group_sums)\n",
        "num_observations = len(data)\n",
        "\n",
        "# Calculate the H statistic\n",
        "H = (12 / (num_observations * (num_observations + 1))) * \\\n",
        "    sum((gr_sum ** 2) / len(gr) for gr_sum, gr in zip(group_sums, group_ranks)) - 3 * (num_observations + 1)\n",
        "\n",
        "# Degrees of freedom\n",
        "df = num_groups - 1\n",
        "\n",
        "# Critical value for significance level 0.05 and df=2\n",
        "critical_value = 5.99\n",
        "\n",
        "# Perform the test and check for significance\n",
        "p_value = H > critical_value\n",
        "\n",
        "# Print the test statistic (H), degrees of freedom, critical value, and p-value\n",
        "print(\"Test Statistic (H):\", H)\n",
        "print(\"Degrees of Freedom:\", df)\n",
        "print(\"Critical Value:\", critical_value)\n",
        "print(\"p-value:\", p_value)\n",
        "\n",
        "# Print the result\n",
        "if p_value:\n",
        "    print(\"Null hypothesis is rejected\")\n",
        "else:\n",
        "    print(\"Null hypothesis is accepted\")\n"
      ]
    },
    {
      "cell_type": "code",
      "source": [],
      "metadata": {
        "id": "RHDrEJvVrmdQ"
      },
      "execution_count": null,
      "outputs": []
    }
  ]
}